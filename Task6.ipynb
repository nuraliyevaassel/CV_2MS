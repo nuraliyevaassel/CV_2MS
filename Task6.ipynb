{
 "cells": [
  {
   "cell_type": "code",
   "execution_count": 36,
   "id": "square-contract",
   "metadata": {},
   "outputs": [
    {
     "data": {
      "text/plain": [
       "5"
      ]
     },
     "execution_count": 36,
     "metadata": {},
     "output_type": "execute_result"
    }
   ],
   "source": [
    "#Task 1\n",
    "def solution(N):\n",
    "    ans = 0\n",
    "    n = 0\n",
    "    while N:\n",
    "        if N % 2 == 1:\n",
    "            N //= 2\n",
    "            while N and N % 2 == 0:\n",
    "                n+=1\n",
    "                N //= 2\n",
    "            if n > ans:\n",
    "                ans = n\n",
    "            n = 0\n",
    "        else:\n",
    "            N //= 2\n",
    "    return ans\n",
    "N = 1041\n",
    "solution(N) #5"
   ]
  },
  {
   "cell_type": "code",
   "execution_count": 32,
   "id": "southeast-greek",
   "metadata": {},
   "outputs": [
    {
     "data": {
      "text/plain": [
       "11"
      ]
     },
     "execution_count": 32,
     "metadata": {},
     "output_type": "execute_result"
    }
   ],
   "source": [
    "#Task 2\n",
    "class Solution:\n",
    "    def __init__(self, arr):\n",
    "        self.arr = arr\n",
    "        self.snippets = self.make_snippets()\n",
    "    \n",
    "    def intersect(self, a,b):\n",
    "        if a[1] < b[0] or b[1] < a[0]:\n",
    "            return False\n",
    "        return True\n",
    "    \n",
    "    def make_snippets(self):\n",
    "        snippets = []\n",
    "        for i, r in enumerate(self.arr):\n",
    "            snippet = (i - r, i + r)\n",
    "            snippets.append(snippet)\n",
    "        return [(i - r, i + r) for i, r in enumerate(a)]\n",
    "    \n",
    "    def return_solution(self):\n",
    "        n = 0\n",
    "        for i, snippet in enumerate(self.snippets):\n",
    "            for cmp in self.snippets[i+1:]:\n",
    "                n += self.intersect(snippet, cmp)\n",
    "                if (n > 10_000_000): return -1\n",
    "        return n\n",
    "    \n",
    "A = [1,5,2,1,4,0] \n",
    "Solution(A).return_solution() #11"
   ]
  },
  {
   "cell_type": "code",
   "execution_count": 34,
   "id": "unlimited-money",
   "metadata": {},
   "outputs": [
    {
     "data": {
      "text/plain": [
       "7"
      ]
     },
     "execution_count": 34,
     "metadata": {},
     "output_type": "execute_result"
    }
   ],
   "source": [
    "#Task 3\n",
    "def solution(A): \n",
    "\n",
    "    res = A[0] \n",
    "    for i in range(1,len(A)): \n",
    "        res = res ^ A[i] \n",
    "    return res \n",
    "\n",
    "A = [9, 3, 9, 3, 9, 7, 9]\n",
    "solution(A)  # 7"
   ]
  },
  {
   "cell_type": "code",
   "execution_count": 35,
   "id": "removed-perth",
   "metadata": {},
   "outputs": [
    {
     "data": {
      "text/plain": [
       "2"
      ]
     },
     "execution_count": 35,
     "metadata": {},
     "output_type": "execute_result"
    }
   ],
   "source": [
    "#Task 4\n",
    "def solution(A, B):\n",
    "    stack = []\n",
    "    alive = len(A)\n",
    "    if not len(A):\n",
    "        return 0\n",
    "    for i in range(len(A)):\n",
    "        if B[i] == 1:\n",
    "            stack.append(A[i])\n",
    "        else:\n",
    "            while len(stack):\n",
    "                if stack[-1] > A[i]:\n",
    "                    alive -= 1\n",
    "                    break\n",
    "                if stack[-1] < A[i]:\n",
    "                    alive -= 1\n",
    "                    stack.pop()\n",
    "    return alive\n",
    "A = [4, 3, 2, 1, 5]\n",
    "B = [0, 1, 0, 0, 0]\n",
    "solution(A, B) #2"
   ]
  },
  {
   "cell_type": "code",
   "execution_count": null,
   "id": "iraqi-rebecca",
   "metadata": {},
   "outputs": [],
   "source": []
  }
 ],
 "metadata": {
  "kernelspec": {
   "display_name": "Python 3",
   "language": "python",
   "name": "python3"
  },
  "language_info": {
   "codemirror_mode": {
    "name": "ipython",
    "version": 3
   },
   "file_extension": ".py",
   "mimetype": "text/x-python",
   "name": "python",
   "nbconvert_exporter": "python",
   "pygments_lexer": "ipython3",
   "version": "3.8.5"
  }
 },
 "nbformat": 4,
 "nbformat_minor": 5
}
